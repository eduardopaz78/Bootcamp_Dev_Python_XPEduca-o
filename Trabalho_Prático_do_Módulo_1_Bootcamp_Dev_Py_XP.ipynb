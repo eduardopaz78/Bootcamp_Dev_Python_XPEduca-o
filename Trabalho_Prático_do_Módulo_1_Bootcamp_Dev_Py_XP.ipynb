{
  "nbformat": 4,
  "nbformat_minor": 0,
  "metadata": {
    "colab": {
      "provenance": [],
      "authorship_tag": "ABX9TyMyczUZlB0KRIbzQBHu1Ojd",
      "include_colab_link": true
    },
    "kernelspec": {
      "name": "python3",
      "display_name": "Python 3"
    },
    "language_info": {
      "name": "python"
    }
  },
  "cells": [
    {
      "cell_type": "markdown",
      "metadata": {
        "id": "view-in-github",
        "colab_type": "text"
      },
      "source": [
        "<a href=\"https://colab.research.google.com/github/eduardopaz78/Bootcamp_Dev_Python_XPEduca-o/blob/main/Trabalho_Pr%C3%A1tico_do_M%C3%B3dulo_1_Bootcamp_Dev_Py_XP.ipynb\" target=\"_parent\"><img src=\"https://colab.research.google.com/assets/colab-badge.svg\" alt=\"Open In Colab\"/></a>"
      ]
    },
    {
      "cell_type": "code",
      "execution_count": null,
      "metadata": {
        "id": "11Xe4w2ZztV8"
      },
      "outputs": [],
      "source": [
        "# declaração das variáveis\n",
        "inicio = 0\n",
        "fim = 100\n",
        "\n",
        "# verifica quais números são divisíveis por cinco, e exibe aqueles que são\n",
        "for numero in range(inicio, fim):\n",
        "  if numero % 5 == 0:\n",
        "        print(numero)"
      ]
    },
    {
      "cell_type": "code",
      "source": [
        "# declaração das variáveis\n",
        "inicio = 100\n",
        "fim = 500\n",
        "\n",
        "# verifica quais números são divisíveis por cinco, e exibe aqueles que são\n",
        "for numero in range(inicio, fim):\n",
        "  if numero % 7 == 0 and numero % 2 == 0 and numero % 5 == 0:\n",
        "        print(numero)"
      ],
      "metadata": {
        "id": "2nUlU4-h1JFe"
      },
      "execution_count": null,
      "outputs": []
    },
    {
      "cell_type": "code",
      "source": [
        "# declaração das variáveis\n",
        "inicio = 0\n",
        "fim = 999\n",
        "divisor = 3\n",
        "\n",
        "# verifica quais números são divisíveis por cinco, e exibe aqueles que são\n",
        "for numero in range(inicio, fim):\n",
        "  if numero % 3 == 0:\n",
        "        print(numero)"
      ],
      "metadata": {
        "id": "p4TKuvpB5kyc"
      },
      "execution_count": null,
      "outputs": []
    },
    {
      "cell_type": "code",
      "source": [
        "# variáveis do tipo string\n",
        "nome = 'João da Silva'\n",
        "cidade = 'São Paulo'\n",
        "cpf = '123.456.789-00'\n",
        "\n",
        "# transformar os caracteres da variável em maíusculo\n",
        "nome = nome.upper()\n",
        "cidade = cidade.upper()\n",
        "cpf = cpf.upper()\n",
        "print(nome, cidade, cpf)"
      ],
      "metadata": {
        "id": "ZxwGgZDH6HCY"
      },
      "execution_count": null,
      "outputs": []
    },
    {
      "cell_type": "code",
      "source": [
        "# variáveis do tipo string\n",
        "nome = 'João da Silva'\n",
        "cidade = 'São Paulo'\n",
        "cpf = '123.456.789-00'\n",
        "\n",
        "# transformar os caracteres da variável em minúsculo\n",
        "nome = nome.lower()\n",
        "cidade = cidade.lower()\n",
        "cpf = cpf.lower()\n",
        "print(nome, cidade, cpf)"
      ],
      "metadata": {
        "id": "Uqg3GHgTaMwW"
      },
      "execution_count": null,
      "outputs": []
    },
    {
      "cell_type": "code",
      "source": [
        "# variáveis do tipo string\n",
        "nome = 'João da Silva'\n",
        "cidade = 'São Paulo'\n",
        "cpf = '123.456.789-00'\n",
        "\n",
        "# exibe a posição do caractere ã, se presente, em cada uma das variáveis\n",
        "nome.find('ã')"
      ],
      "metadata": {
        "colab": {
          "base_uri": "https://localhost:8080/"
        },
        "id": "UBTZ0YLIaSIV",
        "outputId": "67506ffa-aef4-4d19-c09c-f0a64b28b46e"
      },
      "execution_count": null,
      "outputs": [
        {
          "output_type": "execute_result",
          "data": {
            "text/plain": [
              "2"
            ]
          },
          "metadata": {},
          "execution_count": 66
        }
      ]
    },
    {
      "cell_type": "code",
      "source": [
        "# variáveis do tipo string\n",
        "nome = 'João da Silva'\n",
        "cidade = 'São Paulo'\n",
        "cpf = '123.456.789-00'\n",
        "\n",
        "# exibe a posição do caractere ã, se presente, em cada uma das variáveis\n",
        "cidade.find('ã')"
      ],
      "metadata": {
        "id": "GEfQPYRja-AI"
      },
      "execution_count": null,
      "outputs": []
    },
    {
      "cell_type": "code",
      "source": [
        "# variáveis do tipo string\n",
        "nome = 'João da Silva'\n",
        "cidade = 'São Paulo'\n",
        "cpf = '123.456.789-00'\n",
        "\n",
        "# exibe a posição do caractere ã, se presente, em cada uma das variáveis\n",
        "cpf.find('ã')"
      ],
      "metadata": {
        "id": "P6bwVhK3bCRn"
      },
      "execution_count": null,
      "outputs": []
    },
    {
      "cell_type": "code",
      "source": [
        "# variáveis do tipo string\n",
        "nome = 'João da Silva'\n",
        "cidade = 'São Paulo'\n",
        "cpf = '123.456.789-00'\n",
        "\n",
        "# contar os caracteres de cada variável\n",
        "len(nome)"
      ],
      "metadata": {
        "id": "Uiq0DAE4bIN1"
      },
      "execution_count": null,
      "outputs": []
    },
    {
      "cell_type": "code",
      "source": [
        "# variáveis do tipo string\n",
        "nome = 'João da Silva'\n",
        "cidade = 'São Paulo'\n",
        "cpf = '123.456.789-00'\n",
        "\n",
        "# contar os caracteres de cada variável\n",
        "len(cidade)"
      ],
      "metadata": {
        "id": "Ye7nIJJTbXOm"
      },
      "execution_count": null,
      "outputs": []
    },
    {
      "cell_type": "code",
      "source": [
        "# variáveis do tipo string\n",
        "nome = 'João da Silva'\n",
        "cidade = 'São Paulo'\n",
        "cpf = '123.456.789-00'\n",
        "\n",
        "# contar os caracteres de cada variável\n",
        "len(cpf)"
      ],
      "metadata": {
        "id": "HHALgfdJbXVF"
      },
      "execution_count": null,
      "outputs": []
    },
    {
      "cell_type": "code",
      "source": [
        "# variáveis do tipo string\n",
        "nome = 'João da Silva'\n",
        "cidade = 'São Paulo'\n",
        "cpf = '123.456.789-00'\n",
        "\n",
        "# remova os pontos e hífen da variável cpf\n",
        "import string\n",
        "cpf = cpf.translate(dict.fromkeys(map(ord, string.punctuation)))\n",
        "print(cpf)"
      ],
      "metadata": {
        "colab": {
          "base_uri": "https://localhost:8080/"
        },
        "id": "rJ7kt6XGbehR",
        "outputId": "e316e380-eb19-470e-de46-9400512e2873"
      },
      "execution_count": null,
      "outputs": [
        {
          "output_type": "stream",
          "name": "stdout",
          "text": [
            "12345678900\n"
          ]
        }
      ]
    },
    {
      "cell_type": "code",
      "source": [
        "# variáveis\n",
        "numero = '127957'\n",
        "\n",
        "# somar os caracteres da string\n",
        "sum(int(x) for x in numero)\n"
      ],
      "metadata": {
        "colab": {
          "base_uri": "https://localhost:8080/"
        },
        "id": "ZBjAACdMfOiO",
        "outputId": "c43addaa-02fc-406c-ec88-a316edaef16b"
      },
      "execution_count": null,
      "outputs": [
        {
          "output_type": "execute_result",
          "data": {
            "text/plain": [
              "31"
            ]
          },
          "metadata": {},
          "execution_count": 69
        }
      ]
    },
    {
      "cell_type": "code",
      "source": [
        "# variáveis\n",
        "numero = '127957'\n",
        "int(numero) + 1.0\n",
        "type(numero)"
      ],
      "metadata": {
        "colab": {
          "base_uri": "https://localhost:8080/"
        },
        "id": "OAqg1w1rqYa7",
        "outputId": "50c99ad3-deea-4e08-fbe3-040cb85a7c8c"
      },
      "execution_count": null,
      "outputs": [
        {
          "output_type": "execute_result",
          "data": {
            "text/plain": [
              "str"
            ]
          },
          "metadata": {},
          "execution_count": 73
        }
      ]
    },
    {
      "cell_type": "code",
      "source": [
        "x = '5' + '5'\n",
        "print(x)\n",
        "type(x)"
      ],
      "metadata": {
        "colab": {
          "base_uri": "https://localhost:8080/"
        },
        "id": "-BZUzqPAnoOc",
        "outputId": "7ec943c7-d7ff-40f7-d11d-78f04a2cac74"
      },
      "execution_count": null,
      "outputs": [
        {
          "output_type": "stream",
          "name": "stdout",
          "text": [
            "55\n"
          ]
        },
        {
          "output_type": "execute_result",
          "data": {
            "text/plain": [
              "str"
            ]
          },
          "metadata": {},
          "execution_count": 64
        }
      ]
    },
    {
      "cell_type": "code",
      "source": [
        "(2+3)*5-1"
      ],
      "metadata": {
        "id": "u_pdd6s-q14m",
        "outputId": "29aefe99-dd51-4e2f-d223-b4abcd8f5be1",
        "colab": {
          "base_uri": "https://localhost:8080/"
        }
      },
      "execution_count": null,
      "outputs": [
        {
          "output_type": "execute_result",
          "data": {
            "text/plain": [
              "24"
            ]
          },
          "metadata": {},
          "execution_count": 74
        }
      ]
    }
  ]
}